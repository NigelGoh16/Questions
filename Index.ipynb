{
 "cells": [
  {
   "cell_type": "markdown",
   "metadata": {},
   "source": [
    "# Merry Christmas!"
   ]
  },
  {
   "cell_type": "markdown",
   "metadata": {},
   "source": [
    "Q1: Assign your name to the variable name, your age (real or fake) to the variable age, a boolean value to the variable has_android_phone. \n",
    "\n",
    "Afterwards, create a dictionary person with keys \"Name\", \"Age\", \"HasAndroidPhone\" and values using the variables defined above and display the dictionary."
   ]
  },
  {
   "cell_type": "code",
   "execution_count": null,
   "metadata": {},
   "outputs": [],
   "source": []
  },
  {
   "cell_type": "markdown",
   "metadata": {},
   "source": [
    "Q2: Use a for loop to display the type of each value stored against each key in person."
   ]
  },
  {
   "cell_type": "code",
   "execution_count": null,
   "metadata": {},
   "outputs": [],
   "source": []
  },
  {
   "cell_type": "markdown",
   "metadata": {},
   "source": [
    "Q3: Create a list containing the following 3 elements:\n",
    "\n",
    "* your favorite color\n",
    "\n",
    "* the number of pets you have\n",
    "\n",
    "* a boolean value describing whether you have previous programming experience\n",
    "\n",
    "Next, print;\n",
    "* the first element\n",
    "\n",
    "* the third element using an if statement\n",
    "\n",
    "* The number of elements in the list"
   ]
  },
  {
   "cell_type": "code",
   "execution_count": null,
   "metadata": {},
   "outputs": [],
   "source": []
  },
  {
   "cell_type": "markdown",
   "metadata": {},
   "source": [
    "Q4: Calculate and display the sum of all the numbers divisible by 7 between 18 and 534."
   ]
  },
  {
   "cell_type": "code",
   "execution_count": null,
   "metadata": {},
   "outputs": [],
   "source": []
  },
  {
   "cell_type": "markdown",
   "metadata": {},
   "source": [
    "Q5: A travel company wants to fly a plane to the Bahamas. Flying the plane costs 5000 dollars. So far, 29 people have signed up for the trip. If the company charges 200 dollars per ticket, what is the profit made by the company?\n",
    "\n",
    "\n",
    "Q5.1: Out of the 29 people who took the flight, only 12 buy tickets to return from the Bahamas on the same plane. If the flying the plane back also costs 5000 dollars, and does the company make an overall profit or loss? The company charges the same fee of 200 dollars per ticket for the return flight."
   ]
  },
  {
   "cell_type": "code",
   "execution_count": null,
   "metadata": {},
   "outputs": [],
   "source": []
  },
  {
   "cell_type": "markdown",
   "metadata": {},
   "source": [
    "Q6: Create a simple sentiment analysis program to determine whether the sentence is happy, sad or neutral.\n",
    "\n",
    "Use the following list to store the tweets:\n",
    "\n",
    "tweets = [\n",
    "\"Wow, what a great day today!! #sunshine\",\n",
    "\"I feel sad about the things going on around us. #covid19\",\n",
    "\"I'm really excited to learn Python with @JovianML #zerotopandas\",\n",
    "\"This is a really nice song. #linkinpark\",\n",
    "\"The python programming language is useful for data science\",\n",
    "\"Why do bad things happen to me?\",\n",
    "\"Apple announces the release of the new iPhone 12. Fans are excited.\",\n",
    "\"Spent my day with family!! #happy\",\n",
    "\"Check out my blog post on common string operations in Python. #zerotopandas\",\n",
    "\"Freecodecamp has great coding tutorials. #skillup\"\n",
    "]\n",
    "\n",
    "Use the following lists of words to determine the sentiment of the sentences:\n",
    "\n",
    "happy_words = ['great', 'excited', 'happy', 'nice', 'wonderful', 'amazing', 'good', 'best']\n",
    "\n",
    "sad_words = ['sad', 'bad', 'tragic', 'unhappy', 'worst']"
   ]
  },
  {
   "cell_type": "code",
   "execution_count": null,
   "metadata": {},
   "outputs": [],
   "source": []
  }
 ],
 "metadata": {
  "kernelspec": {
   "display_name": "Python 3",
   "language": "python",
   "name": "python3"
  },
  "language_info": {
   "codemirror_mode": {
    "name": "ipython",
    "version": 3
   },
   "file_extension": ".py",
   "mimetype": "text/x-python",
   "name": "python",
   "nbconvert_exporter": "python",
   "pygments_lexer": "ipython3",
   "version": "3.6.13"
  }
 },
 "nbformat": 4,
 "nbformat_minor": 2
}
